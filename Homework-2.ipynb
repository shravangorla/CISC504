{
 "cells": [
  {
   "cell_type": "code",
   "execution_count": 1,
   "metadata": {},
   "outputs": [],
   "source": [
    "#following function using numeric variables which uses the \"range\" function and the \"for\" loop\n",
    "def multiple():\n",
    "    num = input(\"enter a number: \")\n",
    "    # loop will be repeats 10 times (0-9)\n",
    "    for i in range(0,10):\n",
    "        x = i * int(num)\n",
    "        print (x)"
   ]
  },
  {
   "cell_type": "code",
   "execution_count": 2,
   "metadata": {},
   "outputs": [
    {
     "name": "stdout",
     "output_type": "stream",
     "text": [
      "enter a number: 3\n",
      "0\n",
      "3\n",
      "6\n",
      "9\n",
      "12\n",
      "15\n",
      "18\n",
      "21\n",
      "24\n",
      "27\n"
     ]
    }
   ],
   "source": [
    "multiple()"
   ]
  },
  {
   "cell_type": "code",
   "execution_count": 6,
   "metadata": {},
   "outputs": [],
   "source": [
    "#following function using string variables which uses the \"range\" function and the \"for\" loop\n",
    "def main():\n",
    "    n= input(\"Enter name \")\n",
    "    a = input(\"Enter age \")\n",
    "#loop uses the age entered as the maximum value in the loop\n",
    "    for x in range(0,int(a)):\n",
    "        print(n)"
   ]
  },
  {
   "cell_type": "code",
   "execution_count": 7,
   "metadata": {},
   "outputs": [
    {
     "name": "stdout",
     "output_type": "stream",
     "text": [
      "Enter name SHRAVAN KUMAR GORLA\n",
      "Enter age 25\n",
      "SHRAVAN KUMAR GORLA\n",
      "SHRAVAN KUMAR GORLA\n",
      "SHRAVAN KUMAR GORLA\n",
      "SHRAVAN KUMAR GORLA\n",
      "SHRAVAN KUMAR GORLA\n",
      "SHRAVAN KUMAR GORLA\n",
      "SHRAVAN KUMAR GORLA\n",
      "SHRAVAN KUMAR GORLA\n",
      "SHRAVAN KUMAR GORLA\n",
      "SHRAVAN KUMAR GORLA\n",
      "SHRAVAN KUMAR GORLA\n",
      "SHRAVAN KUMAR GORLA\n",
      "SHRAVAN KUMAR GORLA\n",
      "SHRAVAN KUMAR GORLA\n",
      "SHRAVAN KUMAR GORLA\n",
      "SHRAVAN KUMAR GORLA\n",
      "SHRAVAN KUMAR GORLA\n",
      "SHRAVAN KUMAR GORLA\n",
      "SHRAVAN KUMAR GORLA\n",
      "SHRAVAN KUMAR GORLA\n",
      "SHRAVAN KUMAR GORLA\n",
      "SHRAVAN KUMAR GORLA\n",
      "SHRAVAN KUMAR GORLA\n",
      "SHRAVAN KUMAR GORLA\n",
      "SHRAVAN KUMAR GORLA\n"
     ]
    }
   ],
   "source": [
    "\n",
    "main()"
   ]
  },
  {
   "cell_type": "markdown",
   "metadata": {},
   "source": []
  }
 ],
 "metadata": {
  "kernelspec": {
   "display_name": "Python 3",
   "language": "python",
   "name": "python3"
  },
  "language_info": {
   "codemirror_mode": {
    "name": "ipython",
    "version": 3
   },
   "file_extension": ".py",
   "mimetype": "text/x-python",
   "name": "python",
   "nbconvert_exporter": "python",
   "pygments_lexer": "ipython3",
   "version": "3.7.0"
  }
 },
 "nbformat": 4,
 "nbformat_minor": 2
}
